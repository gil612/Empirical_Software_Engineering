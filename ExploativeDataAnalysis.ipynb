{
 "cells": [
  {
   "cell_type": "code",
   "execution_count": 1,
   "metadata": {},
   "outputs": [],
   "source": [
    "import pandas as pd\n",
    "import json\n",
    "from typing import Union, Dict, List\n",
    "import matplotlib.pyplot as plt\n",
    "import seaborn as sns\n",
    "import numpy as np\n",
    "import plotly.express as px\n",
    "import plotly.graph_objects as go\n",
    "from plotly.subplots import make_subplots\n"
   ]
  },
  {
   "cell_type": "code",
   "execution_count": 2,
   "metadata": {},
   "outputs": [],
   "source": [
    "with open('data/aura_ca.behavior_decision_log.json', 'r') as f:\n",
    "    data = json.load(f)"
   ]
  },
  {
   "cell_type": "code",
   "execution_count": 3,
   "metadata": {},
   "outputs": [],
   "source": [
    "def json_to_dataframe(json_data: Union[str, Dict, List]) -> pd.DataFrame:\n",
    "    \"\"\"\n",
    "    Convert JSON data to a pandas DataFrame.\n",
    "    \n",
    "    Args:\n",
    "        json_data: JSON data in one of the following formats:\n",
    "            - JSON string\n",
    "            - Python dictionary\n",
    "            - List of dictionaries\n",
    "    \n",
    "    Returns:\n",
    "        pandas DataFrame containing the JSON data\n",
    "        \n",
    "    Raises:\n",
    "        ValueError: If the input JSON data is invalid or cannot be converted to a DataFrame\n",
    "    \"\"\"\n",
    "    try:\n",
    "        # If input is a string, parse it as JSON\n",
    "        if isinstance(json_data, str):\n",
    "            json_data = json.loads(json_data)\n",
    "            \n",
    "        # Convert to DataFrame\n",
    "        df = pd.DataFrame(json_data)\n",
    "        return df\n",
    "    except Exception as e:\n",
    "        raise ValueError(f\"Failed to convert JSON to DataFrame: {str(e)}\")"
   ]
  },
  {
   "cell_type": "code",
   "execution_count": 4,
   "metadata": {},
   "outputs": [],
   "source": [
    "df = json_to_dataframe(data)"
   ]
  },
  {
   "cell_type": "code",
   "execution_count": 5,
   "metadata": {},
   "outputs": [],
   "source": [
    "# df"
   ]
  },
  {
   "cell_type": "code",
   "execution_count": 6,
   "metadata": {},
   "outputs": [],
   "source": [
    "# print(\"columns types\")\n",
    "# print(df.dtypes)\n",
    "# print(f'\\ndf info')\n",
    "# print(df.info())\n",
    "# print(f'\\nMissing Values')\n",
    "# print(df.isna().sum())"
   ]
  },
  {
   "cell_type": "code",
   "execution_count": 7,
   "metadata": {},
   "outputs": [],
   "source": [
    "# columns types conversion\n",
    "df['_id'] = df['_id'].apply(lambda x: x['$oid'] if isinstance(x, dict) else None)\n",
    "df['timestamp'] = df['timestamp'].apply(lambda x: x['$numberLong'] if isinstance(x, dict) else None).astype(np.int64)\n"
   ]
  },
  {
   "cell_type": "code",
   "execution_count": 8,
   "metadata": {},
   "outputs": [],
   "source": [
    "# create datetime\n",
    "df['datetime'] = pd.to_datetime(df['timestamp'], unit='ms')"
   ]
  },
  {
   "cell_type": "code",
   "execution_count": 9,
   "metadata": {},
   "outputs": [
    {
     "name": "stdout",
     "output_type": "stream",
     "text": [
      "timespan of the data is 91 days\n",
      "Active days with over 10 entries per day: 19\n"
     ]
    }
   ],
   "source": [
    "timespan = (max(df['datetime'].dt.date) - min(df['datetime'].dt.date)).days\n",
    "print(f'timespan of the data is {timespan} days')\n",
    "non_active_days = timespan - df['datetime'].dt.date.nunique()\n",
    "\n",
    "active_days = len(np.where(df['datetime'].dt.date.value_counts() > 10)[0])\n",
    "print(f'Active days with over 10 entries per day: {active_days}')"
   ]
  },
  {
   "cell_type": "code",
   "execution_count": 10,
   "metadata": {},
   "outputs": [],
   "source": [
    "# Create the initial DataFrame with counts\n",
    "pseudonym_data = df['pseudonym'].value_counts().reset_index()\n",
    "pseudonym_data.columns = ['pseudonym', 'count']\n",
    "\n",
    "# Calculate all statistics at once using groupby\n",
    "stats = df.groupby('pseudonym').agg({\n",
    "    'datetime': ['min', 'max'],  # start_time and end_time\n",
    "    'result': ['sum', 'count']   # true_results and total count\n",
    "}).reset_index()\n",
    "\n",
    "# Flatten the multi-index columns\n",
    "stats.columns = ['pseudonym', 'start_time', 'end_time', 'true_result', 'total_count']\n",
    "\n",
    "# Merge with the original counts\n",
    "pseudonym_data = pseudonym_data.merge(stats, on='pseudonym')\n",
    "\n",
    "# Calculate false_result\n",
    "pseudonym_data['false_result'] = pseudonym_data['total_count'] - pseudonym_data['true_result']\n",
    "pseudonym_data['duration'] = pseudonym_data['end_time'] - pseudonym_data['start_time']\n",
    "pseudonym_data['true_result in %'] = round(100 * pseudonym_data['true_result']/ pseudonym_data['total_count'],2)"
   ]
  },
  {
   "cell_type": "code",
   "execution_count": 11,
   "metadata": {},
   "outputs": [],
   "source": [
    "pseudonym_data.reset_index(inplace=True)\n",
    "pseudonym_data.rename(columns={\"index\":\"pseudonym_id\"},inplace=True)\n",
    "pseudonym_data['pseudonym_id'] = 'pseudonym_' + pseudonym_data['pseudonym_id'].astype(str)"
   ]
  },
  {
   "cell_type": "code",
   "execution_count": 12,
   "metadata": {},
   "outputs": [],
   "source": [
    "# pseudonym_data.head(5)"
   ]
  },
  {
   "cell_type": "code",
   "execution_count": 13,
   "metadata": {},
   "outputs": [],
   "source": [
    "# print(f\"User '{pseudonym_data['pseudonym'][0]}' (Short ID: {pseudonym_data['pseudonym_id'][0]}) has the highest activity with {pseudonym_data['total_count'][0]} total entries.\")\n",
    "# print(f\"The user's participation period extends from {pseudonym_data['start_time'][0].strftime('%Y-%m-%d')} through {pseudonym_data['end_time'][0].strftime('%Y-%m-%d')}.\")"
   ]
  },
  {
   "cell_type": "code",
   "execution_count": 14,
   "metadata": {
    "scrolled": true
   },
   "outputs": [],
   "source": [
    "# # First, create a complete date range\n",
    "# date_range = pd.date_range(start=df['datetime'].min().date(), \n",
    "#                           end=df['datetime'].max().date())\n",
    "\n",
    "# # Convert to date for comparison\n",
    "# date_range = date_range.date\n",
    "\n",
    "# # Calculate daily counts for all records\n",
    "# daily_counts = df['datetime'].dt.date.value_counts().reindex(date_range, fill_value=0).sort_index()\n",
    "\n",
    "# # Calculate false results, reindexing to include all dates\n",
    "# daily_true = (df[df['result'] == True]['datetime']\n",
    "#               .dt.date\n",
    "#               .value_counts()\n",
    "#               .reindex(date_range, fill_value=0)\n",
    "#               .sort_index())\n",
    "\n",
    "# plt.figure(figsize=(15, 6))\n",
    "# # Plot total counts\n",
    "# daily_counts.plot(kind='line', marker='o', label='Total Records')\n",
    "# # Plot false results\n",
    "# daily_true.plot(kind='line', label='False Results', color='red')\n",
    "\n",
    "# plt.xlabel('Date')\n",
    "# plt.ylabel('Count')\n",
    "# plt.title('Daily Record Counts')\n",
    "# plt.xticks(rotation=45)\n",
    "# plt.gca().xaxis.set_major_formatter(plt.matplotlib.dates.DateFormatter('%Y-%m-%d'))\n",
    "# plt.grid(True, alpha=0.3)\n",
    "# plt.legend()\n",
    "# plt.tight_layout()\n",
    "# plt.show()"
   ]
  },
  {
   "cell_type": "code",
   "execution_count": 15,
   "metadata": {
    "scrolled": true
   },
   "outputs": [],
   "source": [
    "# fig = px.scatter(df, \n",
    "#                  x='datetime', \n",
    "#                  y='result',\n",
    "#                  title='Result vs. Datetime',\n",
    "#                  labels={\n",
    "#                      'datetime': 'Datetime',\n",
    "#                      'result': 'Result'\n",
    "#                  },\n",
    "#                  color='result',  # Color points by result\n",
    "#                  size_max=10)     # Maximum size of points\n",
    "\n",
    "# # Customize the layout\n",
    "# fig.update_layout(\n",
    "#     xaxis_tickangle=-45,\n",
    "#     showlegend=False,\n",
    "#     height=300,\n",
    "#     xaxis=dict(\n",
    "#         tickformat='%Y-%m-%d',  # Format date display\n",
    "#         nticks=20              # Number of ticks to display\n",
    "#     )\n",
    "# )\n",
    "\n",
    "# # Customize hover information\n",
    "# fig.update_traces(\n",
    "#     hovertemplate=\"<br>\".join([\n",
    "#         \"Date: %{x}\",\n",
    "#         \"Result: %{y}\"\n",
    "#     ])\n",
    "# )\n",
    "\n",
    "# fig.show()"
   ]
  },
  {
   "cell_type": "code",
   "execution_count": 16,
   "metadata": {
    "scrolled": true
   },
   "outputs": [],
   "source": [
    "# # Create subplots\n",
    "# fig = make_subplots(rows=2, cols=2,\n",
    "#                    subplot_titles=('Success Rate vs Duration',\n",
    "#                                  'Attempt Distribution',\n",
    "#                                  'Success Rate Distribution',\n",
    "#                                  'Activity Timeline'))\n",
    "\n",
    "# # Add scatter plot\n",
    "# fig.add_trace(\n",
    "#     go.Scatter(x=pseudonym_data['duration'],\n",
    "#               y=pseudonym_data['true_result in %'],\n",
    "#               mode='markers',\n",
    "#               marker=dict(size=pseudonym_data['total_count']/10,\n",
    "#                          color=pseudonym_data['total_count'],\n",
    "#                          showscale=True),\n",
    "#               text=pseudonym_data['pseudonym_id'],\n",
    "#               hoverinfo='text+x+y',\n",
    "#               name='Success Rate'),\n",
    "#     row=1, col=1\n",
    "# )\n",
    "\n",
    "# # Add histogram for total attempts\n",
    "# fig.add_trace(\n",
    "#     go.Histogram(x=pseudonym_data['total_count'],\n",
    "#                 name='Attempt Distribution'),\n",
    "#     row=1, col=2\n",
    "# )\n",
    "\n",
    "# # Add histogram for success rate\n",
    "# fig.add_trace(\n",
    "#     go.Histogram(x=pseudonym_data['true_result in %'],\n",
    "#                 name='Success Rate Distribution'),\n",
    "#     row=2, col=1\n",
    "# )\n",
    "\n",
    "# # Add timeline\n",
    "# fig.add_trace(\n",
    "#     go.Scatter(x=pseudonym_data['start_time'],\n",
    "#               # y=pseudonym_data['pseudonym'],\n",
    "#               mode='markers',\n",
    "#                marker=dict(size=np.where(pseudonym_data['total_count']/100 < 1, 5, pseudonym_data['total_count']/100),\n",
    "#                            color=pseudonym_data['total_count'],\n",
    "#                          showscale=True),\n",
    "#               name='Start Time',\n",
    "#                text = pseudonym_data['pseudonym_id'],\n",
    "#                hoverinfo='text+x'\n",
    "#               ),\n",
    "#     row=2, col=2\n",
    "# )\n",
    "\n",
    "# # Update layout\n",
    "# fig.update_layout(height=800, width=1200,\n",
    "#                  title_text=\"Pseudonym Analysis Dashboard\",\n",
    "#                  showlegend=False)\n",
    "\n",
    "# fig.show()"
   ]
  },
  {
   "cell_type": "code",
   "execution_count": 17,
   "metadata": {},
   "outputs": [],
   "source": [
    "# # Sort the data\n",
    "# sorted_data = pseudonym_data.sort_values('total_count', ascending=False)\n",
    "\n",
    "# fig = go.Figure()\n",
    "\n",
    "# fig.add_trace(go.Bar(\n",
    "#     x=sorted_data['pseudonym_id'],\n",
    "#     y=sorted_data['true_result'],\n",
    "#     name='True Results',\n",
    "#     marker_color='green'\n",
    "# ))\n",
    "\n",
    "# fig.add_trace(go.Bar(\n",
    "#     x=sorted_data['pseudonym_id'],\n",
    "#     y=sorted_data['false_result'],\n",
    "#     name='False Results',\n",
    "#     marker_color='red'\n",
    "# ))\n",
    "\n",
    "# fig.update_layout(\n",
    "#     barmode='stack',\n",
    "#     title='True/False Results by Pseudonym (Sorted by Total Count)',\n",
    "#     xaxis_title='Pseudonym',\n",
    "#     yaxis_title='Count',\n",
    "#     xaxis_tickangle=-45,\n",
    "#     height=600,\n",
    "#     width=1000\n",
    "# )\n",
    "\n",
    "# fig.show()"
   ]
  }
 ],
 "metadata": {
  "kernelspec": {
   "display_name": "Python 3 (ipykernel)",
   "language": "python",
   "name": "python3"
  },
  "language_info": {
   "codemirror_mode": {
    "name": "ipython",
    "version": 3
   },
   "file_extension": ".py",
   "mimetype": "text/x-python",
   "name": "python",
   "nbconvert_exporter": "python",
   "pygments_lexer": "ipython3",
   "version": "3.12.7"
  }
 },
 "nbformat": 4,
 "nbformat_minor": 4
}
